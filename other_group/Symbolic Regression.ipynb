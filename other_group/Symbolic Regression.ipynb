{
 "cells": [
  {
   "cell_type": "code",
   "execution_count": 1,
   "metadata": {
    "slideshow": {
     "slide_type": "skip"
    }
   },
   "outputs": [
    {
     "ename": "ModuleNotFoundError",
     "evalue": "No module named 'jupyterthemes'",
     "output_type": "error",
     "traceback": [
      "\u001b[0;31m---------------------------------------------------------------------------\u001b[0m",
      "\u001b[0;31mModuleNotFoundError\u001b[0m                       Traceback (most recent call last)",
      "\u001b[0;32m<ipython-input-1-347f0281bea9>\u001b[0m in \u001b[0;36m<module>\u001b[0;34m\u001b[0m\n\u001b[0;32m----> 1\u001b[0;31m \u001b[0;32mfrom\u001b[0m \u001b[0mjupyterthemes\u001b[0m \u001b[0;32mimport\u001b[0m \u001b[0mjtplot\u001b[0m\u001b[0;34m\u001b[0m\u001b[0;34m\u001b[0m\u001b[0m\n\u001b[0m\u001b[1;32m      2\u001b[0m \u001b[0mjtplot\u001b[0m\u001b[0;34m.\u001b[0m\u001b[0mstyle\u001b[0m\u001b[0;34m(\u001b[0m\u001b[0;34m)\u001b[0m\u001b[0;34m\u001b[0m\u001b[0;34m\u001b[0m\u001b[0m\n",
      "\u001b[0;31mModuleNotFoundError\u001b[0m: No module named 'jupyterthemes'"
     ]
    }
   ],
   "source": [
    "from jupyterthemes import jtplot\n",
    "jtplot.style()"
   ]
  },
  {
   "cell_type": "markdown",
   "metadata": {
    "slideshow": {
     "slide_type": "slide"
    }
   },
   "source": [
    "# <center>Régression symbolique"
   ]
  },
  {
   "cell_type": "markdown",
   "metadata": {
    "slideshow": {
     "slide_type": "slide"
    }
   },
   "source": [
    "## <center>Principe</center>"
   ]
  },
  {
   "cell_type": "markdown",
   "metadata": {
    "slideshow": {
     "slide_type": "fragment"
    }
   },
   "source": [
    "<center>But : Trouver l'expression analytique qui colle le mieux aux données.</center>"
   ]
  },
  {
   "cell_type": "markdown",
   "metadata": {
    "slideshow": {
     "slide_type": "fragment"
    }
   },
   "source": [
    "<center>Comment faire ? On peut tester différentes combinaisons de symboles et de fonctions</center>"
   ]
  },
  {
   "cell_type": "markdown",
   "metadata": {
    "slideshow": {
     "slide_type": "fragment"
    }
   },
   "source": [
    "<center>Un individu = un arbre :\n",
    "\n",
    "</center> <center><img src=\"Genetic_Program_Tree.png\"></center>"
   ]
  },
  {
   "cell_type": "markdown",
   "metadata": {
    "slideshow": {
     "slide_type": "slide"
    }
   },
   "source": [
    "## <center>Différences avec une régression classique</center>"
   ]
  },
  {
   "cell_type": "markdown",
   "metadata": {
    "slideshow": {
     "slide_type": "fragment"
    }
   },
   "source": [
    "<center>- D'habitude, on trouve les paramètres d’un modèle de base par minimisation d’une fonction de coût.</center>"
   ]
  },
  {
   "cell_type": "markdown",
   "metadata": {
    "slideshow": {
     "slide_type": "fragment"
    }
   },
   "source": [
    "<center>- Ici, aucun modèle de base n’est fourni.</center>"
   ]
  },
  {
   "cell_type": "markdown",
   "metadata": {
    "slideshow": {
     "slide_type": "fragment"
    }
   },
   "source": [
    "<center>$$\\implies \\begin{equation}\n",
    "\\left\\{ \n",
    "  \\begin{aligned}\n",
    "    &\\text{Avantage : pas de biais humain quant au choix du modèle.}\\\\\n",
    "    &\\text{Désavantage : l'espace de recherche est bien plus grand.} \n",
    "  \\end{aligned}\n",
    "  \\right.\n",
    "\\end{equation}\n",
    "$$</center>"
   ]
  },
  {
   "cell_type": "markdown",
   "metadata": {
    "slideshow": {
     "slide_type": "slide"
    }
   },
   "source": [
    "## <center>Un exemple simple</center>\n",
    "\n",
    "\n"
   ]
  },
  {
   "cell_type": "code",
   "execution_count": null,
   "metadata": {
    "slideshow": {
     "slide_type": "fragment"
    }
   },
   "outputs": [],
   "source": [
    "from gplearn.genetic import SymbolicRegressor\n",
    "function_set=['add', 'sub', 'mul', 'div','cos','sin','neg','inv']\n",
    "est_gp = SymbolicRegressor(function_set=function_set,\n",
    "                           population_size=5000, generations=40,\n",
    "                           tournament_size=20, p_crossover=0.7, \n",
    "                           p_point_mutation=0.1,\n",
    "                           parsimony_coefficient=0.001\n",
    "                           )"
   ]
  },
  {
   "cell_type": "code",
   "execution_count": 1,
   "metadata": {
    "slideshow": {
     "slide_type": "notes"
    }
   },
   "outputs": [],
   "source": [
    "from gplearn.genetic import SymbolicRegressor\n",
    "from sklearn.ensemble import RandomForestRegressor\n",
    "from sklearn.tree import DecisionTreeRegressor\n",
    "from sklearn.model_selection import train_test_split\n",
    "import matplotlib.pyplot as plt\n",
    "import numpy as np\n",
    "import graphviz\n",
    "from sympy import *\n",
    "import pandas as pd"
   ]
  },
  {
   "cell_type": "code",
   "execution_count": 3,
   "metadata": {
    "slideshow": {
     "slide_type": "notes"
    }
   },
   "outputs": [],
   "source": [
    "converter = {\n",
    "    'sub': lambda x, y : x - y,\n",
    "    'div': lambda x, y : x/y,\n",
    "    'mul': lambda x, y : x*y,\n",
    "    'add': lambda x, y : x + y,\n",
    "    'neg': lambda x    : -x,\n",
    "    'pow': lambda x, y : x**y,\n",
    "    'sin': lambda x    : sin(x),\n",
    "    'cos': lambda x    : cos(x),\n",
    "    'inv': lambda x: 1/x,\n",
    "    'sqrt': lambda x: x**0.5,\n",
    "    'pow3': lambda x: x**3\n",
    "}\n",
    "\n",
    "def create_data(n_samples, functions, beta, sig):\n",
    "    x = np.linspace(-10, 10, n_samples)\n",
    "    X = np.column_stack([function(x) for function in functions])\n",
    "    y_true = np.dot(X, beta)\n",
    "    sig = sig*(np.max(y_true)-np.min(y_true))\n",
    "    y = y_true + sig * np.random.normal(size=n_samples)\n",
    "    return x, y_true, y\n",
    "\n",
    "def symbolic_regression(x, y,\\\n",
    "                        function_set = ['add', 'sub', 'mul', 'div','cos','sin','neg', 'inv']):\n",
    "\n",
    "    df = pd.DataFrame(); df['x']=x; df['y']=y;\n",
    "    X = df[['x']]; y = df['y']; y_true = y\n",
    "    \n",
    "    X_train, X_test, y_train, y_test = train_test_split(X, y, test_size=0.30, random_state=42)\n",
    "    \n",
    "    est_gp = SymbolicRegressor(population_size=5000,function_set=function_set,\n",
    "                           generations=50, stopping_criteria=0.01,\n",
    "                           p_crossover=0.7, p_subtree_mutation=0.1,\n",
    "                           p_hoist_mutation=0.05, p_point_mutation=0.1,\n",
    "                           max_samples=0.9, verbose=1,\n",
    "                           parsimony_coefficient=0.02, random_state=0)\n",
    "    est_gp.fit(X_train, y_train)\n",
    "        \n",
    "    return est_gp, X_train, X_test, y_train, y_test\n"
   ]
  },
  {
   "cell_type": "markdown",
   "metadata": {
    "slideshow": {
     "slide_type": "subslide"
    }
   },
   "source": [
    "On génère des données avec $f(x) = x\\cos(x) + 2\\sin(x) - \\dfrac{x^2}{10}$ et un bruit d'amplitude 5% de celle du signal."
   ]
  },
  {
   "cell_type": "code",
   "execution_count": 7,
   "metadata": {
    "slideshow": {
     "slide_type": "fragment"
    }
   },
   "outputs": [
    {
     "data": {
      "image/png": "[encoded data removed]",
      "text/plain": [
       "<Figure size 460.8x403.2 with 1 Axes>"
      ]
     },
     "metadata": {},
     "output_type": "display_data"
    }
   ],
   "source": [
    "functions = [lambda x : x*np.cos(x), np.sin, lambda x : x**2]\n",
    "beta = [1, 2, -1/10]\n",
    "n_samples = 400\n",
    "x, y_true, y = create_data(n_samples, functions , beta, sig = 0.05)\n",
    "plt.plot(x, y_true, 'r', x, y, 'b')\n",
    "plt.legend([\"True function\", \"Noisy data\"])\n",
    "plt.title(\"Noisy data and underlying function\");"
   ]
  },
  {
   "cell_type": "code",
   "execution_count": 16,
   "metadata": {
    "scrolled": true,
    "slideshow": {
     "slide_type": "fragment"
    }
   },
   "outputs": [
    {
     "name": "stdout",
     "output_type": "stream",
     "text": [
      "    |   Population Average    |             Best Individual              |\n",
      "---- ------------------------- ------------------------------------------ ----------\n",
      " Gen   Length          Fitness   Length          Fitness      OOB Fitness  Time Left\n",
      "   0    18.73          669.257       11          3.06514          3.67648      4.17m\n",
      "   1     6.55          5.41091       11          3.10252           3.7142      3.45m\n",
      "   2     5.32          5.86167       17          2.98829          2.02162      3.32m\n",
      "   3     7.09          163.319       17          2.10285          2.03988      3.20m\n",
      "   4    10.88          8.38074       17          1.70912          1.55082      3.31m\n",
      "   5    12.85          6.10719       24          1.45407          1.30697      3.50m\n",
      "   6    15.31          6.78639       19          1.23431          1.43849      3.42m\n",
      "   7    18.33          7.50206       29          1.11001          0.96594      3.45m\n",
      "   8    19.46          13.0345       25          0.95449         0.848026      3.48m\n",
      "   9    18.81          8.48411       25         0.932285         0.963887      3.29m\n",
      "  10    19.55          8.07244       23         0.901349           1.2738      3.24m\n",
      "  11    19.09          8.78639       22         0.853393         0.964318      3.04m\n",
      "  12    20.23          8.86922       22         0.827988          1.19297      3.17m\n",
      "  13    22.28          6.74519       22         0.841252          1.07359      3.06m\n",
      "  14    22.06          7.69039       22         0.834857          1.13115      2.94m\n",
      "  15    22.04          6.52429       22         0.827211          1.19996      2.89m\n",
      "  16    21.70          7.39491       22         0.826682          1.20472      2.90m\n",
      "  17    21.67          8.12649       20         0.819946          1.26084      2.76m\n",
      "  18    20.68          7.91501       22         0.818442          1.27888      2.64m\n",
      "  19    20.06          8.18272       20         0.818926          1.27002      2.71m\n",
      "  20    19.72          6.97808       20         0.809505          1.35481      2.66m\n",
      "  21    19.88          6.85879       20         0.817294          1.28471      2.40m\n",
      "  22    19.71          79.9545       20         0.809366          1.35607      2.41m\n",
      "  23    19.42          6.67831       20         0.812087          1.33158      2.27m\n",
      "  24    19.44          9.55641       19         0.817727          1.28081      2.13m\n",
      "  25    19.05          6.95654       19           0.8196          1.26396      2.07m\n",
      "  26    19.00          6.63413       19          0.81802          1.27818      2.02m\n",
      "  27    18.94          8.36246       19         0.817204          1.28553      1.90m\n",
      "  28    18.77          6.30274       19         0.814419          1.31058      1.77m\n",
      "  29    18.49          7.46662       18         0.827529           1.1926      1.73m\n",
      "  30    18.13          7.67976       18         0.814481          1.31003      1.69m\n",
      "  31    18.04          8.25186       18         0.819283          1.26681      1.53m\n",
      "  32    17.93          7.43145       18          0.81159          1.33605      1.66m\n",
      "  33    17.84           6.4725       18          0.82241          1.23867      1.66m\n",
      "  34    17.82          6.06174       18         0.806238          1.38422      1.30m\n",
      "  35    17.89          6.76707       18         0.819808          1.26209      1.21m\n",
      "  36    17.69          6.45476       18         0.821793          1.24422      1.10m\n",
      "  37    17.79          12.3774       18         0.818892          1.27033      1.08m\n",
      "  38    17.77          10.7339       18         0.823081          1.23263     57.17s\n",
      "  39    17.77           6.9796       18         0.823725          1.22683     51.15s\n",
      "  40    17.86           7.1093       18          0.82035          1.25721     45.91s\n",
      "  41    17.87          12.4018       18         0.821622          1.24576     44.47s\n",
      "  42    17.91           9.0202       18         0.817928          1.27901     36.08s\n",
      "  43    17.88          6.98023       18         0.808711          1.36196     30.85s\n",
      "  44    17.93          10.5948       18         0.815936          1.29693     30.53s\n",
      "  45    17.91           5.9618       18         0.811276          1.33888     22.53s\n",
      "  46    17.90          73.8312       18         0.798929             1.45     16.53s\n",
      "  47    17.72          8.00837       18         0.826724          1.19984     10.49s\n",
      "  48    17.87          9.63809       18         0.820839          1.25281      5.42s\n",
      "  49    17.90          6.82021       18         0.820866          1.25257      0.00s\n"
     ]
    }
   ],
   "source": [
    "\n",
    "est_gp, X_train, X_test, y_train, y_test = symbolic_regression(x, y, \\\n",
    "            function_set = ['add', 'sub', 'mul', 'div','cos','sin','neg'])\n"
   ]
  },
  {
   "cell_type": "markdown",
   "metadata": {
    "slideshow": {
     "slide_type": "slide"
    }
   },
   "source": [
    "## Résultats\n"
   ]
  },
  {
   "cell_type": "markdown",
   "metadata": {
    "slideshow": {
     "slide_type": "fragment"
    }
   },
   "source": [
    "La fonction originelle était $f(x) = x\\cos(x) + 2\\sin(x) - \\dfrac{x^2}{10}$"
   ]
  },
  {
   "cell_type": "markdown",
   "metadata": {
    "slideshow": {
     "slide_type": "fragment"
    }
   },
   "source": [
    "L'algorithme a trouvé :"
   ]
  },
  {
   "cell_type": "code",
   "execution_count": 17,
   "metadata": {
    "scrolled": true,
    "slideshow": {
     "slide_type": "fragment"
    }
   },
   "outputs": [
    {
     "data": {
      "text/latex": [
       "$\\displaystyle - 0.100625 X_{0}^{2} + X_{0} \\cos{\\left(X_{0} \\right)} + 2 \\sin{\\left(X_{0} \\right)}$"
      ],
      "text/plain": [
       "-0.100625*X0**2 + X0*cos(X0) + 2*sin(X0)"
      ]
     },
     "execution_count": 17,
     "metadata": {},
     "output_type": "execute_result"
    }
   ],
   "source": [
    "\n",
    "expression = sympify(str(est_gp._program), locals=converter)\n",
    "expression"
   ]
  },
  {
   "cell_type": "markdown",
   "metadata": {
    "slideshow": {
     "slide_type": "subslide"
    }
   },
   "source": [
    "On peut regarder si cela colle aussi graphiquement :"
   ]
  },
  {
   "cell_type": "code",
   "execution_count": 18,
   "metadata": {
    "slideshow": {
     "slide_type": "fragment"
    }
   },
   "outputs": [
    {
     "name": "stdout",
     "output_type": "stream",
     "text": [
      "R2 sur le test set (30%): 0.9679292914926267\n"
     ]
    },
    {
     "data": {
      "image/png": "[encoded data removed]",
      "text/plain": [
       "<Figure size 432x288 with 1 Axes>"
      ]
     },
     "metadata": {},
     "output_type": "display_data"
    }
   ],
   "source": [
    "y_pred = est_gp.predict(x[:, np.newaxis])\n",
    "plt.plot(x, y, 'b', x, y_pred, 'r' )\n",
    "plt.xlabel(\"x\");\n",
    "plt.ylabel(\"y\");\n",
    "plt.title(\"Données bruitées et régression symbolique\");\n",
    "plt.legend([\"Données initiales\", \"Régression symbolique\"])\n",
    "\n",
    "print('R2 sur le test set (30%):',est_gp.score(X_test,y_test))"
   ]
  },
  {
   "cell_type": "markdown",
   "metadata": {
    "slideshow": {
     "slide_type": "slide"
    }
   },
   "source": [
    "## <center>L'article en question</center>"
   ]
  },
  {
   "cell_type": "markdown",
   "metadata": {
    "slideshow": {
     "slide_type": "skip"
    }
   },
   "source": [
    "L'article en question souligne l'importance des \"références\" (benchmarks) : données, choix des algos et des hyperparamètres. Cet article propose de référencer les performances de 14 algorithmes (4 de Symbolic Regression et 10 ML) sur 94 ensembles de données avec la même méthode de choix des hyperparamètres (validation croisée). Le but est de comparer les méthodes selon leurs erreurs d’entraînement/validation et leur temps d’exécution."
   ]
  },
  {
   "cell_type": "markdown",
   "metadata": {
    "slideshow": {
     "slide_type": "fragment"
    }
   },
   "source": [
    "<center>Comparaison la plus complète et moins biaisée possible d'algorithmes de régression classiques et symboliques.<center/>"
   ]
  },
  {
   "cell_type": "markdown",
   "metadata": {
    "slideshow": {
     "slide_type": "fragment"
    }
   },
   "source": [
    "<center>- 14 algorithmes (4 de Symbolic Regression et 10 ML)</center>"
   ]
  },
  {
   "cell_type": "markdown",
   "metadata": {
    "slideshow": {
     "slide_type": "fragment"
    }
   },
   "source": [
    "<center>- 94 ensembles de données \"standards\" </center>"
   ]
  },
  {
   "cell_type": "markdown",
   "metadata": {
    "slideshow": {
     "slide_type": "fragment"
    }
   },
   "source": [
    "<center>- Méthode de choix des hyperparamètres : validation croisée</center>"
   ]
  },
  {
   "cell_type": "markdown",
   "metadata": {
    "slideshow": {
     "slide_type": "slide"
    }
   },
   "source": [
    "# <center>Méthodes de régression symbolique</center>"
   ]
  },
  {
   "cell_type": "markdown",
   "metadata": {
    "slideshow": {
     "slide_type": "slide"
    }
   },
   "source": [
    "## <center>Multiple regression genetic programming</center>"
   ]
  },
  {
   "cell_type": "markdown",
   "metadata": {
    "slideshow": {
     "slide_type": "notes"
    }
   },
   "source": [
    "Association de régression Lasso (Rappel : pénalisation L1, favorise la parcimonie) + Recherche d’arbre classique d'algo génétique. À chaque nœud de l’arbre est attribué un poids qu’on optimise par régression lasso. Rien d’incompréhensible pour la partie algorithme génétique : mutation ponctuelle, croisements de sous-arbres et sélection via NSGA-II.\n",
    "Algo dispo sur https://flexgp.github.io/gp-learners/ (fichier jar à lancer)"
   ]
  },
  {
   "cell_type": "markdown",
   "metadata": {
    "slideshow": {
     "slide_type": "fragment"
    }
   },
   "source": [
    "<center>- Principe : attribuer un poids à chaque noeud de l'arbre et les optimiser par régression Lasso</center>"
   ]
  },
  {
   "cell_type": "markdown",
   "metadata": {
    "slideshow": {
     "slide_type": "fragment"
    }
   },
   "source": [
    "<center>- Rappel : la régression Lasso est \"parcimonieuse\" $\\implies$ peu de termes (théoriquement)</center>"
   ]
  },
  {
   "cell_type": "markdown",
   "metadata": {
    "slideshow": {
     "slide_type": "subslide"
    }
   },
   "source": [
    "<center>- Mutation ponctuelle\n",
    "    \n",
    " <img src=\"Point mutation.png\"></center>"
   ]
  },
  {
   "cell_type": "markdown",
   "metadata": {
    "slideshow": {
     "slide_type": "subslide"
    }
   },
   "source": [
    " <center> - Crossover : Croisements de sous-arbres \n",
    "    <center><img src=\"Sub_treecrossover.png\"></center>"
   ]
  },
  {
   "cell_type": "markdown",
   "metadata": {
    "slideshow": {
     "slide_type": "fragment"
    }
   },
   "source": [
    "<center> - Sélection par NSGA-II</center>"
   ]
  },
  {
   "cell_type": "markdown",
   "metadata": {
    "slideshow": {
     "slide_type": "slide"
    }
   },
   "source": [
    "## <center>$\\epsilon$-Lexicase selection"
   ]
  },
  {
   "cell_type": "markdown",
   "metadata": {
    "slideshow": {
     "slide_type": "notes"
    }
   },
   "source": [
    "Adaptation de la méthode \"lexicase selection\" à la regression. Initialement, la \"Lexicase selection\" est une méthode de *sélection* des parents pour des algorithmes de synthèse de programmes.\n",
    "\n",
    "Point sur les méthodes formelles : Au croisement entre la logique formelle et l'informatique se trouvent les méthodes formelles. On peut dire qu'elles correspondent à des \"méta-algorithmes\" : prouver la validité (ou une certaine propriété) d'un code informatique (= vérification déductive), créer automatiquement un code respectant une certaine propriété (= synthèse de programme) sont des méthodes formelles. Pour réaliser ce genre de méthodes, on traduit le code informatique en langage formel pour en tirer des propriétés. C'est fascinant de voir que la logique formelle (a priori très abstraite) peut avoir des applications puissantes!\n",
    "\n",
    "\n",
    "$\\epsilon$-lexicase selection : Dans le cadre du Genetic Programming, un individu est évalué par plusieurs tests. La Lexicase selection consiste alors à :\n",
    "1. Ajouter toute la population courante à l'ensemble des choix possibles\n",
    "2. Choisir un test au hasard\n",
    "3. Evaluer la population sur ce test et retirer tous ceux qui n'ont pas le bon résultat\n",
    "4. Si :\n",
    "- il ne reste qu'un individu, il est choisit comme parent. \n",
    "- il reste plus d'un individu, on réitère 3 avec un autre test choisit au hasard. S'il n'y a plus de tests à choisir, le parent est choisit au hasard parmi les individus restants.\n",
    "\n",
    "Assez facile à implémenter, cette méthode de sélection est l'une des meilleures en Genetic Programming car elle permet de faire survivre des individus qui réussissent les tests qui sont rarement réussis : les tests agissent comme des filtres d'autant plus puissants qu'ils sont difficiles.\n",
    "\n",
    "Le problème, c'est qu'en régression, les \"tests\" sont des évaluations numériques généralement continues (donc non discrètes et encore moins booléenne. Comme le maximum de fitness n'est généralement atteint que par un seul individu, on éliminerait directement tous les individus sauf 1. On a de plus généralement une seule fonction de fitness, ce qui rendrait la procédure inutile.\n",
    "\n",
    "Pour remédier à ça, on sélectionne simplement les individus \"proches du meilleur résultat à un certain $\\epsilon$ près\". En notant $e(i)$ l'erreur de l'individu i et $e^{\\star}$ la plus petite erreur de la population, les tests naturels sont par exemple :\n",
    "- $e(i) < e^{\\star}(1+\\epsilon)\n",
    "- $e(i) < \\epsilon\n",
    "Le problème, c'est qu'alors $\\epsilon$ doit être choisit manuellement et est problème dépendant : pour avoir $\\epsilon$ dépendant de la difficulté du test (mesurable par MAD(e), mieux que $\\sigma(e)$ pour éviter les anomalies), les tests corrigés sont :\n",
    "- $e(i) < e^{\\star} + MAD(e)\n",
    "- $e(i) < MAD(e)\n",
    "\n",
    "\n",
    "Le code est fait avec du calcul parallèle (simplement OpenMP) (code en C++) ! Par contre beaucoup de sections parallèles ouvertes, les calculs ont l'air lourds...\n",
    "\n",
    "\n",
    "Algo dispo sur https://epistasislab.github.io/ellyn/"
   ]
  },
  {
   "cell_type": "markdown",
   "metadata": {
    "slideshow": {
     "slide_type": "fragment"
    }
   },
   "source": [
    "**<center>Principe de la Lexicase Selection (en Genetic Programming):</center>**\n",
    "    \n",
    "1. Ajouter toute la population courante à l'ensemble des choix possibles\n",
    "2. Choisir un test au hasard\n",
    "3. Evaluer la population sur ce test et retirer tous ceux qui n'ont pas le bon résultat\n",
    "4. Si :\n",
    "    - il ne reste qu'un individu, il est choisit comme parent. \n",
    "    - il reste plus d'un individu, on réitère 3 avec un autre test choisit au hasard. S'il n'y a plus de tests à choisir, le parent est choisit au hasard parmi les individus restants."
   ]
  },
  {
   "cell_type": "markdown",
   "metadata": {
    "slideshow": {
     "slide_type": "fragment"
    }
   },
   "source": [
    "<center>- Facile à implémenter"
   ]
  },
  {
   "cell_type": "markdown",
   "metadata": {
    "slideshow": {
     "slide_type": "fragment"
    }
   },
   "source": [
    "<center>- Permet de faire survivre des individus qui réussissent les tests qui sont rarement réussis"
   ]
  },
  {
   "cell_type": "markdown",
   "metadata": {},
   "source": [
    "<center>- Une des meilleures méthodes de sélection en GP : donne d'excellents résultats"
   ]
  },
  {
   "cell_type": "markdown",
   "metadata": {
    "slideshow": {
     "slide_type": "subslide"
    }
   },
   "source": [
    "**<center> Adaptation à la régression :</center>**\n",
    "<center>Les \"tests\" sont des évaluations numériques généralement non discrètes</center>\n",
    "   <center>$\\implies$ Inutile telle quelle car ne sélectionne qu'un individu, le meilleur"
   ]
  },
  {
   "cell_type": "markdown",
   "metadata": {
    "slideshow": {
     "slide_type": "fragment"
    }
   },
   "source": [
    "<center>Solution : on sélectionne les meilleurs \"à $\\epsilon$ près\".</center> \n",
    "\n",
    "Soit $e(i)$ l'erreur de l'individu i et $e^{\\star}$ la plus petite erreur de la population, les tests \"naturels\" sont:\n",
    "- $e(i) < e^{\\star}(1+\\epsilon)$\n",
    "- $e(i) < \\epsilon$\n",
    "\n",
    "Mais $\\epsilon$ choisi manuellement et problème dépendant :\n",
    "- $e(i) < e^{\\star} + MAD(e)$\n",
    "- $e(i) < MAD(e)$\n"
   ]
  },
  {
   "cell_type": "markdown",
   "metadata": {
    "slideshow": {
     "slide_type": "subslide"
    }
   },
   "source": [
    "<center>Reste de l'algorithme classique :"
   ]
  },
  {
   "cell_type": "markdown",
   "metadata": {
    "slideshow": {
     "slide_type": "fragment"
    }
   },
   "source": [
    "<center>- Mutation ponctuelle"
   ]
  },
  {
   "cell_type": "markdown",
   "metadata": {
    "slideshow": {
     "slide_type": "fragment"
    }
   },
   "source": [
    "<center>-Croisements de sous-arbres"
   ]
  },
  {
   "cell_type": "markdown",
   "metadata": {
    "slideshow": {
     "slide_type": "slide"
    }
   },
   "source": [
    "## Résultats de l'étude\n",
    "<img src=\"training.png\">\n",
    "\n",
    "<img src=\"testing.png\">"
   ]
  },
  {
   "cell_type": "markdown",
   "metadata": {
    "slideshow": {
     "slide_type": "slide"
    }
   },
   "source": [
    "## <center>Peut-on aller plus loin ?"
   ]
  },
  {
   "cell_type": "markdown",
   "metadata": {
    "slideshow": {
     "slide_type": "fragment"
    }
   },
   "source": [
    "<center>Cette méthode permet d'avoir une expression analytique des données ! Cela ouvre la porte à tous les résultats d'analyse connus."
   ]
  },
  {
   "cell_type": "markdown",
   "metadata": {
    "slideshow": {
     "slide_type": "fragment"
    }
   },
   "source": [
    "<center> En particulier : utilisation possible de l'arithmétique d'intervalles\n",
    "<br>\n",
    "<br>\n",
    "<center> <img src=\"Interval Arithmetic.jpg\">\n",
    "    "
   ]
  },
  {
   "cell_type": "markdown",
   "metadata": {
    "slideshow": {
     "slide_type": "fragment"
    }
   },
   "source": [
    "<center> Exemple : $f(x) = x^2 + x + 1,  x \\in [-1, 1] \\implies f(x) \\in [0, 3]$\n",
    "<br>\n",
    "<center> (plusieurs résultats possibles selon l'expression...)\n"
   ]
  },
  {
   "cell_type": "markdown",
   "metadata": {
    "slideshow": {
     "slide_type": "fragment"
    }
   },
   "source": [
    "<center> Permet donc de connaître un majorant et un minorant d'une fonction..."
   ]
  },
  {
   "cell_type": "markdown",
   "metadata": {
    "slideshow": {
     "slide_type": "subslide"
    }
   },
   "source": [
    "## <center>En quoi ça aide ?"
   ]
  },
  {
   "cell_type": "markdown",
   "metadata": {
    "slideshow": {
     "slide_type": "fragment"
    }
   },
   "source": [
    "<center>En permettant l'utilisation de \"1/x\" (souvent nécessaire pour une bonne description), création d'asymptotes :\n",
    "<br>   \n",
    "<br>\n",
    "<center><img src=\"BadSR.png\">\n",
    "<br>\n",
    "<center> <i>Improving Symbolic Regression with Interval Arithmetic and Linear Scaling</i>, Maarten Keijzer"
   ]
  },
  {
   "cell_type": "markdown",
   "metadata": {
    "slideshow": {
     "slide_type": "fragment"
    }
   },
   "source": [
    "<center>Avec l'arithmétique d'intervalles, on peut déceler lorsqu'il y a un problème d'asymptote (la valeur de la fonction prédite \"dépasse les bornes\") et pénaliser l'individu $\\implies$ méthode \"Linear Scaling\" proposée dans l'article"
   ]
  },
  {
   "cell_type": "markdown",
   "metadata": {
    "slideshow": {
     "slide_type": "fragment"
    }
   },
   "source": [
    "<center> Une autre idée non explorée pour l'arithmétique d'intervalles : coupler SR et IBB pour avoir un minimum global théorique d'un dataset (d'après Frédéric Messine, pionnier de l'IBB, c'est une idée à essayer)"
   ]
  }
 ],
 "metadata": {
  "celltoolbar": "Diaporama",
  "kernelspec": {
   "display_name": "Python 3",
   "language": "python",
   "name": "python3"
  },
  "language_info": {
   "codemirror_mode": {
    "name": "ipython",
    "version": 3
   },
   "file_extension": ".py",
   "mimetype": "text/x-python",
   "name": "python",
   "nbconvert_exporter": "python",
   "pygments_lexer": "ipython3",
   "version": "3.8.3"
  }
 },
 "nbformat": 4,
 "nbformat_minor": 4
}
